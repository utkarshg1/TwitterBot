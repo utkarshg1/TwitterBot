{
 "cells": [
  {
   "attachments": {},
   "cell_type": "markdown",
   "metadata": {},
   "source": [
    "# Final Twitterbot - Utkarsh Gaikwad"
   ]
  },
  {
   "cell_type": "code",
   "execution_count": 1,
   "metadata": {},
   "outputs": [
    {
     "name": "stdout",
     "output_type": "stream",
     "text": [
      "cats%20and%20otters\n"
     ]
    }
   ],
   "source": [
    "from selenium import webdriver\n",
    "from selenium.webdriver.common.by import By\n",
    "import time \n",
    "import random\n",
    "\n",
    "#Sleep Time\n",
    "st = 4\n",
    "\n",
    "#Login To Twitter page\n",
    "driver = webdriver.Chrome()\n",
    "driver.get(\"https://twitter.com/i/flow/login\")\n",
    "time.sleep(st)\n",
    "\n",
    "#Entering Username\n",
    "username = driver.find_element(By.TAG_NAME, \"input\")\n",
    "username.send_keys(\"YourUsernameHere\") # Enter your Username\n",
    "\n",
    "#Clicking Next button\n",
    "all_buttons = driver.find_elements(By.XPATH, \"//div[@role='button']\")\n",
    "all_buttons[-2].click()\n",
    "time.sleep(st)\n",
    "\n",
    "#Entering Password\n",
    "password = driver.find_element(By.XPATH,\"//input[@type='password']\")\n",
    "password.send_keys(\"Your Password here\")# Enter your Password\n",
    "time.sleep(st)\n",
    "\n",
    "#Click Login Button\n",
    "login = driver.find_elements(By.XPATH, \"//div[@role='button']\")\n",
    "login[-1].click()\n",
    "time.sleep(st)\n",
    "\n",
    "#Query search\n",
    "keyword = \"cats and otters\"\n",
    "keyword = keyword.lower()\n",
    "words = keyword.split(\" \")\n",
    "if len(words)>1:\n",
    "    querystring=\"%20\".join(words)\n",
    "else:\n",
    "    querystring=keyword\n",
    "print(querystring)\n",
    "\n",
    "driver.get(\"https://twitter.com/search?q=\"+querystring+\"&src=typed_query&f=top\")\n",
    "time.sleep(st)\n",
    "\n",
    "messages = ['Wow!','Incredible!!!','Amaziiinggg!!','So Cute!','I Like It!','This is awesome!', 'Fantastic!!!','Cutie Pie!','Sweet!!']\n",
    "\n",
    "n_scrolls = 4\n",
    "\n",
    "for scroll in range(n_scrolls):\n",
    "    #Liking the post\n",
    "    like=driver.find_elements(By.XPATH,\"//span[@data-testid='app-text-transition-container']\")\n",
    "    driver.execute_script(\"arguments[0].click();\",like[2])\n",
    "    time.sleep(st)\n",
    "\n",
    "    #Clicking on Retweet Button\n",
    "    retweet=driver.find_elements(By.XPATH,\"//span[@data-testid='app-text-transition-container']\")\n",
    "    driver.execute_script(\"arguments[0].click();\",retweet[1])\n",
    "    time.sleep(st)\n",
    "\n",
    "    #Clicking on quote tweet\n",
    "    quote_tweet = driver.find_element(By.XPATH,\"//a[@role='menuitem']\")\n",
    "    quote_tweet.click()\n",
    "    time.sleep(st)\n",
    "\n",
    "    #Writing the quote\n",
    "    quote = driver.find_element(By.XPATH,\"//div[contains(@class,'public-DraftStyleDefault-block')]\")\n",
    "    quote.send_keys(random.choice(messages))\n",
    "    time.sleep(st)\n",
    "\n",
    "    #Clicking tweet button\n",
    "    tweet = driver.find_element(By.XPATH,\"//div[@data-testid='tweetButton']\")\n",
    "    tweet.click()\n",
    "    time.sleep(st)\n",
    "\n",
    "    #Scrolling\n",
    "    driver.execute_script(\"window.scrollTo(0,document.body.scrollHeight);\")\n",
    "    time.sleep(st)"
   ]
  }
 ],
 "metadata": {
  "kernelspec": {
   "display_name": "venv",
   "language": "python",
   "name": "python3"
  },
  "language_info": {
   "codemirror_mode": {
    "name": "ipython",
    "version": 3
   },
   "file_extension": ".py",
   "mimetype": "text/x-python",
   "name": "python",
   "nbconvert_exporter": "python",
   "pygments_lexer": "ipython3",
   "version": "3.10.7 (tags/v3.10.7:6cc6b13, Sep  5 2022, 14:08:36) [MSC v.1933 64 bit (AMD64)]"
  },
  "orig_nbformat": 4,
  "vscode": {
   "interpreter": {
    "hash": "b25275eb0d6328b95253e8585f546b101a717d508390c435c290bbce1b66445e"
   }
  }
 },
 "nbformat": 4,
 "nbformat_minor": 2
}
